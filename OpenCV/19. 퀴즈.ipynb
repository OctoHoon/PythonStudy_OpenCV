{
 "cells": [
  {
   "cell_type": "markdown",
   "id": "128e2090",
   "metadata": {},
   "source": [
    "# 퀴즈"
   ]
  },
  {
   "cell_type": "markdown",
   "id": "de2e21e6",
   "metadata": {},
   "source": [
    "## OpenCV를 이용하여 가로로 촬영된 동영상을 세로로 회전하는 프로그램을 작성하시오"
   ]
  },
  {
   "cell_type": "markdown",
   "id": "896e78c0",
   "metadata": {},
   "source": [
    "### 조건\n",
    "1. 회전 : 시계 반대방향으로 90도\n",
    "1. 재생속도 (FPS) : 원본 * 4배\n",
    "1. 출력 파일명 : city_output.avi(코덱:DIVX)\n",
    "\n",
    "* 원본 파일명 : city.mp4"
   ]
  },
  {
   "cell_type": "code",
   "execution_count": 11,
   "id": "ee2c9dbd",
   "metadata": {},
   "outputs": [],
   "source": [
    "import cv2\n",
    "cap = cv2.VideoCapture('city.mp4')\n",
    "\n",
    "# 코덱 정의\n",
    "fourcc = cv2.VideoWriter_fourcc(*'DIVX')\n",
    "\n",
    "# 프레임 크기, FPS\n",
    "width = round(cap.get(cv2.CAP_PROP_FRAME_WIDTH))\n",
    "height = round(cap.get(cv2.CAP_PROP_FRAME_HEIGHT))\n",
    "fps = cap.get(cv2.CAP_PROP_FPS) # 영상 재생 속도\n",
    "\n",
    "out = cv2.VideoWriter('city_output.avi', fourcc, fps * 4, (height, width))\n",
    "# 저장 파일명, 코덱, FPS, 크기, (width, height)\n",
    "\n",
    "while cap.isOpened():\n",
    "    ret, frame = cap.read()\n",
    "    \n",
    "    if not ret:\n",
    "        break\n",
    "        \n",
    "    frame_rotate_270 = cv2.rotate(frame, cv2.ROTATE_90_COUNTERCLOCKWISE)\n",
    "    out.write(frame_rotate_270) # 영상 데이터만 저장(소리X)\n",
    "    \n",
    "    cv2.imshow('video', frame)\n",
    "    if cv2.waitKey(1) == ord('q'):\n",
    "        break\n",
    "\n",
    "out.release() # 자원 해제\n",
    "cap.release()\n",
    "cv2.destroyAllWindows()\n",
    "    "
   ]
  }
 ],
 "metadata": {
  "kernelspec": {
   "display_name": "Python 3",
   "language": "python",
   "name": "python3"
  },
  "language_info": {
   "codemirror_mode": {
    "name": "ipython",
    "version": 3
   },
   "file_extension": ".py",
   "mimetype": "text/x-python",
   "name": "python",
   "nbconvert_exporter": "python",
   "pygments_lexer": "ipython3",
   "version": "3.8.8"
  }
 },
 "nbformat": 4,
 "nbformat_minor": 5
}

{
 "cells": [
  {
   "cell_type": "markdown",
   "id": "0b0d57fc",
   "metadata": {},
   "source": [
    "# 12. 이미지 변형(원근)"
   ]
  },
  {
   "cell_type": "markdown",
   "id": "32ddaca9",
   "metadata": {},
   "source": [
    "## 사다리꼴 이미지 펼치기"
   ]
  },
  {
   "cell_type": "code",
   "execution_count": 2,
   "id": "13ce956b",
   "metadata": {},
   "outputs": [],
   "source": [
    "import cv2\n",
    "import numpy as np\n",
    "\n",
    "img = cv2.imread('newspaper.jpg')\n",
    "\n",
    "width, height = 640, 240\n",
    "\n",
    "src = np.array([[504, 354], [1009, 346], [1127, 596], [447, 598]], dtype=np.float32) # input 4개 지정(그림판으로 위치 파악)\n",
    "dst = np.array([[0, 0], [width, 0], [width, height], [0, height]], dtype=np.float32) # output 4개 지정\n",
    "# 좌상, 우상, 우하, 좌하 (시계 방향으로 4 지점 정의)\n",
    "\n",
    "matrix = cv2.getPerspectiveTransform(src, dst) # Matrix 얻어옴\n",
    "result = cv2.warpPerspective(img, matrix, (width, height))\n",
    "\n",
    "cv2.imshow('img', img)\n",
    "cv2.imshow('result', result)\n",
    "cv2.waitKey(0)\n",
    "cv2.destroyAllWindows()"
   ]
  },
  {
   "cell_type": "markdown",
   "id": "ae669c2a",
   "metadata": {},
   "source": [
    "## 회전된 이미지 올바로 세우기"
   ]
  },
  {
   "cell_type": "code",
   "execution_count": 3,
   "id": "98e6cb30",
   "metadata": {},
   "outputs": [],
   "source": [
    "import cv2\n",
    "import numpy as np\n",
    "\n",
    "img = cv2.imread('poker.jpg')\n",
    "\n",
    "width, height = 530, 710\n",
    "\n",
    "src = np.array([[699, 146], [1129, 427], [720, 998], [283, 695]], dtype=np.float32) # input 4개 지정(그림판으로 위치 파악)\n",
    "dst = np.array([[0, 0], [width, 0], [width, height], [0, height]], dtype=np.float32) # output 4개 지정\n",
    "# 좌상, 우상, 우하, 좌하 (시계 방향으로 4 지점 정의)\n",
    "\n",
    "matrix = cv2.getPerspectiveTransform(src, dst) # Matrix 얻어옴\n",
    "result = cv2.warpPerspective(img, matrix, (width, height))\n",
    "\n",
    "cv2.imshow('img', img)\n",
    "cv2.imshow('result', result)\n",
    "cv2.waitKey(0)\n",
    "cv2.destroyAllWindows()"
   ]
  },
  {
   "cell_type": "markdown",
   "id": "407949af",
   "metadata": {},
   "source": [
    "## 미니 프로젝트: 반자동 문서 스캐너"
   ]
  },
  {
   "cell_type": "markdown",
   "id": "0b1fc1a0",
   "metadata": {},
   "source": [
    "### 마우스 이벤트 등록"
   ]
  },
  {
   "cell_type": "code",
   "execution_count": 11,
   "id": "c8e965ce",
   "metadata": {},
   "outputs": [
    {
     "name": "stdout",
     "output_type": "stream",
     "text": [
      "왼쪽 버튼 Down\n",
      "490 480\n",
      "왼쪽 버튼 Up\n",
      "490 480\n"
     ]
    }
   ],
   "source": [
    "import cv2\n",
    "\n",
    "def mouse_handler(event, x, y, flags, param):\n",
    "    if event == cv2.EVENT_LBUTTONDOWN: # 마우스 왼쪽 버튼 누름\n",
    "        print('왼쪽 버튼 Down')\n",
    "        print(x, y)\n",
    "    elif event == cv2.EVENT_LBUTTONUP: # 마우스 왼쪽 버튼 up\n",
    "        print('왼쪽 버튼 Up')\n",
    "        print(x, y)\n",
    "    elif event == cv2.EVENT_LBUTTONDBLCLK: # 마우스 왼쪽 더블 클릭\n",
    "        print('왼쪽 버튼 Double Clikck')\n",
    "#     elif event == cv2.EVENT_MOUSEMOVE: # 마우스 이동\n",
    "#         print('마우스 이동')\n",
    "    elif event == cv2.EVENT_RBUTTONDOWN: # 마우스 오른쪽 버튼 누름\n",
    "        print('오른쪽 버튼 Down')\n",
    "\n",
    "img = cv2.imread('poker.jpg')\n",
    "cv2.namedWindow('img') # img란 이름의 윈도우를 먼저 만들어두는 것. 여기에 마우스 이벤트를 처리하기 위한 핸들러 적용\n",
    "cv2.setMouseCallback('img', mouse_handler)\n",
    "cv2.imshow('img', img)\n",
    "cv2.waitKey(0)\n",
    "cv2.destroyAllWindows()\n"
   ]
  },
  {
   "cell_type": "markdown",
   "id": "bc362a30",
   "metadata": {},
   "source": [
    "## 프로젝트"
   ]
  },
  {
   "cell_type": "code",
   "execution_count": 26,
   "id": "7764abf5",
   "metadata": {},
   "outputs": [],
   "source": [
    "import cv2\n",
    "import numpy as np\n",
    "\n",
    "point_list = []\n",
    "src_img = cv2.imread('poker.jpg')\n",
    "\n",
    "COLOR = (255, 0, 255)\n",
    "THICKNESS = 3\n",
    "drawing = False # 선을 그릴지 여부\n",
    "\n",
    "def mouse_handler(event, x, y, flags, param):\n",
    "    global drawing\n",
    "    dst_img = src_img.copy()\n",
    "    \n",
    "    if event == cv2.EVENT_LBUTTONDOWN: # 마우스 왼쪽 버튼 누름\n",
    "        drawing = True # 선을 그리기 시작\n",
    "        point_list.append((x,y))\n",
    "    \n",
    "    if drawing:\n",
    "        prev_point = None # 직선의 시작점\n",
    "        for point in point_list:\n",
    "            cv2.circle(dst_img, point, 15, COLOR, cv2.FILLED)\n",
    "            if prev_point:\n",
    "                cv2.line(dst_img, prev_point, point, COLOR, THICKNESS, cv2.LINE_AA)\n",
    "            prev_point = point\n",
    "        \n",
    "        next_point = (x, y)\n",
    "        if len(point_list) == 4:\n",
    "            show_result() # 결과 출력\n",
    "            next_point = point_list[0]\n",
    "        cv2.line(dst_img, prev_point, next_point, COLOR, THICKNESS, cv2.LINE_AA)\n",
    "        \n",
    "    \n",
    "    cv2.imshow('img', dst_img)\n",
    "\n",
    "def show_result():\n",
    "    width, height = 530, 710\n",
    "\n",
    "    src = np.float32(point_list)\n",
    "    dst = np.array([[0, 0], [width, 0], [width, height], [0, height]], dtype=np.float32) # output 4개 지정\n",
    "    # 좌상, 우상, 우하, 좌하 (시계 방향으로 4 지점 정의)\n",
    "\n",
    "    matrix = cv2.getPerspectiveTransform(src, dst) # Matrix 얻어옴\n",
    "    result = cv2.warpPerspective(src_img, matrix, (width, height))\n",
    "    cv2.imshow('result', result)    \n",
    "    \n",
    "cv2.namedWindow('img')\n",
    "cv2.setMouseCallback('img', mouse_handler)\n",
    "cv2.imshow('img', src_img)\n",
    "cv2.waitKey(0)\n",
    "cv2.destroyAllWindows()\n"
   ]
  }
 ],
 "metadata": {
  "kernelspec": {
   "display_name": "Python 3",
   "language": "python",
   "name": "python3"
  },
  "language_info": {
   "codemirror_mode": {
    "name": "ipython",
    "version": 3
   },
   "file_extension": ".py",
   "mimetype": "text/x-python",
   "name": "python",
   "nbconvert_exporter": "python",
   "pygments_lexer": "ipython3",
   "version": "3.8.8"
  }
 },
 "nbformat": 4,
 "nbformat_minor": 5
}
